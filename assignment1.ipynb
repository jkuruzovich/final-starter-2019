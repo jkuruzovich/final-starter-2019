{
  "nbformat": 4,
  "nbformat_minor": 0,
  "metadata": {
    "colab": {
      "name": "assignment1.ipynb",
      "version": "0.3.2",
      "provenance": []
    },
    "kernelspec": {
      "display_name": "Python 3",
      "language": "python",
      "name": "python3"
    }
  },
  "cells": [
    {
      "metadata": {
        "id": "pkG1FSYXmZeh",
        "colab_type": "text"
      },
      "cell_type": "markdown",
      "source": [
        "Initialize the OK tests to get started."
      ]
    },
    {
      "metadata": {
        "id": "OMO6b3AWnCwH",
        "colab_type": "text"
      },
      "cell_type": "markdown",
      "source": [
        "> Testing webhooks!\n",
        "> -- Stephan"
      ]
    },
    {
      "metadata": {
        "id": "0o4wv3gQmZej",
        "colab_type": "code",
        "colab": {}
      },
      "cell_type": "code",
      "source": [
        "from client.api.notebook import Notebook\n",
        "ok = Notebook('lab02.ok')\n",
        "_ = ok.auth(inline=True)"
      ],
      "execution_count": 0,
      "outputs": []
    },
    {
      "metadata": {
        "id": "YfWGm12Lnz34",
        "colab_type": "code",
        "colab": {}
      },
      "cell_type": "code",
      "source": [
        ""
      ],
      "execution_count": 0,
      "outputs": []
    },
    {
      "metadata": {
        "id": "NOAei9ZemZem",
        "colab_type": "text"
      },
      "cell_type": "markdown",
      "source": [
        "**Submission**: This should be submitted in PDF format with Homework 2.  "
      ]
    },
    {
      "metadata": {
        "id": "LeGc4BZSmZen",
        "colab_type": "code",
        "outputId": "1cef3b7c-004f-4bbc-f380-2a34c0674af3",
        "colab": {}
      },
      "cell_type": "code",
      "source": [
        "a=5*13*31+2\n",
        "b=2**5-2**11-2**1\n",
        "b=2018\n",
        "new_year = max(a,b)\n",
        "new_year"
      ],
      "execution_count": 0,
      "outputs": [
        {
          "output_type": "execute_result",
          "data": {
            "text/plain": [
              "2018"
            ]
          },
          "metadata": {
            "tags": []
          },
          "execution_count": 4
        }
      ]
    },
    {
      "metadata": {
        "id": "4fao6QmImZes",
        "colab_type": "text"
      },
      "cell_type": "markdown",
      "source": [
        "Check your work by executing the next cell."
      ]
    },
    {
      "metadata": {
        "id": "ktC_bO-wmZes",
        "colab_type": "code",
        "outputId": "795bade8-bea2-4637-dd9a-6e7208c87e14",
        "colab": {}
      },
      "cell_type": "code",
      "source": [
        "_ = ok.grade('q11')"
      ],
      "execution_count": 0,
      "outputs": [
        {
          "output_type": "display_data",
          "data": {
            "text/html": [
              "\n",
              "    \n",
              "    \n",
              "        <p>All 1 tests passed! Full grade.</p>\n",
              "    \n",
              "    "
            ],
            "text/plain": [
              "<gradememaybe.ok.OKTestsResult at 0x104928b00>"
            ]
          },
          "metadata": {
            "tags": []
          }
        }
      ]
    },
    {
      "metadata": {
        "id": "R2P8tNPSmZev",
        "colab_type": "text"
      },
      "cell_type": "markdown",
      "source": [
        "**Question 2.1.** Yuri Gagarin was the first person to travel through outer space.  When he emerged from his capsule upon landing on Earth, he [reportedly](https://en.wikiquote.org/wiki/Yuri_Gagarin) had the following conversation with a woman and girl who saw the landing:\n",
        "\n",
        "    The woman asked: \"Can it be that you have come from outer space?\"\n",
        "    Gagarin replied: \"As a matter of fact, I have!\"\n",
        "\n",
        "The cell below contains unfinished code.  Fill in the `...`s so that it prints out this conversation *exactly* as it appears above."
      ]
    },
    {
      "metadata": {
        "id": "ofXr40e3mZew",
        "colab_type": "code",
        "outputId": "85395438-d4b5-498c-c088-e6de889abaf1",
        "colab": {}
      },
      "cell_type": "code",
      "source": [
        "woman_asking = \"\"\n",
        "woman_quote = '\"Can it be that you have come from outer space?\"'\n",
        "gagarin_reply = 'Gagarin replied:'\n",
        "gagarin_quote = '\"As a matter of fact, I have!\"'\n",
        "\n",
        "print(woman_asking, woman_quote)\n",
        "print(gagarin_reply, gagarin_quote)"
      ],
      "execution_count": 0,
      "outputs": [
        {
          "output_type": "stream",
          "text": [
            " \"Can it be that you have come from outer space?\"\n",
            "Gagarin replied: \"As a matter of fact, I have!\"\n"
          ],
          "name": "stdout"
        }
      ]
    },
    {
      "metadata": {
        "id": "Ga-2cqR5mZey",
        "colab_type": "code",
        "outputId": "c5288552-8d51-45fd-c846-f95731ee9521",
        "colab": {}
      },
      "cell_type": "code",
      "source": [
        "_ = ok.grade('q21')"
      ],
      "execution_count": 0,
      "outputs": [
        {
          "output_type": "display_data",
          "data": {
            "text/html": [
              "\n",
              "    \n",
              "    \n",
              "        <p>0 of 1 tests passed</p>\n",
              "        \n",
              "        \n",
              "        <p> <strong>Tests failed: </strong>\n",
              "            <ul>\n",
              "            \n",
              "                <li> \n",
              "    <p><strong style='color: red;'>/Users/jasonkuruzovich/githubdesktop/0_class/submitty-data-rpi/gopher/tests/q21.py</strong></p>\n",
              "\n",
              "    <p><strong>Test code:</strong><pre><div class=\"highlight\" style=\"background: #f8f8f8\"><pre style=\"line-height: 125%\"><span></span><span style=\"color: #000080; font-weight: bold\">&gt;&gt;&gt; </span>woman_asking\n",
              "<span style=\"color: #888888\">&#39;The woman asked:&#39;</span>\n",
              "<span style=\"color: #000080; font-weight: bold\">&gt;&gt;&gt; </span>gagarin_quote\n",
              "<span style=\"color: #888888\">&#39;&quot;As a matter of fact, I have!&quot;&#39;</span>\n",
              "</pre></div>\n",
              "</pre></p>\n",
              "\n",
              "    <p><strong>Test result:</strong><pre>Trying:\n",
              "    woman_asking\n",
              "Expecting:\n",
              "    'The woman asked:'\n",
              "**********************************************************************\n",
              "Line 2, in /Users/jasonkuruzovich/githubdesktop/0_class/submitty-data-rpi/gopher/tests/q21.py 0\n",
              "Failed example:\n",
              "    woman_asking\n",
              "Expected:\n",
              "    'The woman asked:'\n",
              "Got:\n",
              "    ''\n",
              "Trying:\n",
              "    gagarin_quote\n",
              "Expecting:\n",
              "    '\"As a matter of fact, I have!\"'\n",
              "ok\n",
              "</pre></p>\n",
              "     </li>\n",
              "            \n",
              "            </ul>\n",
              "        \n",
              "    \n",
              "    "
            ],
            "text/plain": [
              "<gradememaybe.ok.OKTestsResult at 0x10499a048>"
            ]
          },
          "metadata": {
            "tags": []
          }
        }
      ]
    },
    {
      "metadata": {
        "id": "hWmY29MOmZe2",
        "colab_type": "text"
      },
      "cell_type": "markdown",
      "source": [
        "## 2.1. String Methods"
      ]
    },
    {
      "metadata": {
        "id": "y1l2vzuEmZe3",
        "colab_type": "text"
      },
      "cell_type": "markdown",
      "source": [
        "Strings can be transformed using **methods**, which are functions that involve an existing string and some other arguments. One example is the `replace` method, which replaces all instances of some part of a string with some alternative. \n",
        "\n",
        "A method is invoked on a string by placing a `.` after the string value, then the name of the method, and finally parentheses containing the arguments. Here's a sketch, where the `<` and `>` symbols aren't part of the syntax; they just mark the boundaries of sub-expressions.\n",
        "\n",
        "    <expression that evaluates to a string>.<method name>(<argument>, <argument>, ...)\n",
        "\n",
        "Try to predict the output of these examples, then execute them."
      ]
    },
    {
      "metadata": {
        "id": "5P_ZNkrsmZe3",
        "colab_type": "code",
        "colab": {}
      },
      "cell_type": "code",
      "source": [
        "# Replace one letter\n",
        "'Hello'.replace('o', 'a')"
      ],
      "execution_count": 0,
      "outputs": []
    },
    {
      "metadata": {
        "id": "5etQYXL1mZe6",
        "colab_type": "code",
        "colab": {}
      },
      "cell_type": "code",
      "source": [
        "# Replace a sequence of letters, which appears twice\n",
        "'hitchhiker'.replace('hi', 'ma')"
      ],
      "execution_count": 0,
      "outputs": []
    },
    {
      "metadata": {
        "id": "qRqUDrlkmZe8",
        "colab_type": "text"
      },
      "cell_type": "markdown",
      "source": [
        "Once a name is bound to a string value, methods can be invoked on that name as well. The name is still bound to the original string, so a new name is needed to capture the result. "
      ]
    },
    {
      "metadata": {
        "id": "xuN_BMUPmZe8",
        "colab_type": "code",
        "colab": {}
      },
      "cell_type": "code",
      "source": [
        "sharp = 'edged'\n",
        "hot = sharp.replace('ed', 'ma')\n",
        "print('sharp:', sharp)\n",
        "print('hot:', hot)"
      ],
      "execution_count": 0,
      "outputs": []
    },
    {
      "metadata": {
        "id": "QWviMsv4mZe-",
        "colab_type": "text"
      },
      "cell_type": "markdown",
      "source": [
        "You can call functions on the results of other functions.  For example,\n",
        "\n",
        "    max(abs(-5), abs(3))\n",
        "\n",
        "has value 5.  Similarly, you can invoke methods on the results of other method (or function) calls."
      ]
    },
    {
      "metadata": {
        "id": "UgsLrifTmZe_",
        "colab_type": "code",
        "colab": {}
      },
      "cell_type": "code",
      "source": [
        "# Calling replace on the output of another call to\n",
        "# replace\n",
        "'train'.replace('t', 'ing').replace('in', 'de')"
      ],
      "execution_count": 0,
      "outputs": []
    },
    {
      "metadata": {
        "id": "tUWMT_TBmZfA",
        "colab_type": "text"
      },
      "cell_type": "markdown",
      "source": [
        "Here's a picture of how Python evaluates a \"chained\" method call like that:\n",
        "\n",
        "<img src=\"https://github.com/RPI-DATA/assignment1-test-zednis/blob/master/chaining_method_calls.jpg?raw=1\"/>"
      ]
    },
    {
      "metadata": {
        "id": "yf-byqk-mZfB",
        "colab_type": "text"
      },
      "cell_type": "markdown",
      "source": [
        "**Question 2.1.1.** Assign strings to the names `you` and `this` so that the final expression evaluates to a 10-letter English word with three double letters in a row.\n",
        "\n",
        "*Hint:* After you guess at some values for `you` and `this`, it's helpful to see the value of the variable `the`.  Try printing the value of `the` by adding a line like this:\n",
        "    \n",
        "    print(the)\n",
        "\n",
        "*Hint 2:* Run the tests if you're stuck.  They'll often give you help."
      ]
    },
    {
      "metadata": {
        "id": "uPCVUmXgmZfC",
        "colab_type": "code",
        "outputId": "6ad5efd2-7500-4656-8e64-64d01333473e",
        "colab": {
          "base_uri": "https://localhost:8080/",
          "height": 34
        }
      },
      "cell_type": "code",
      "source": [
        "you = \"keep\"\n",
        "this = \"bok\"\n",
        "a = 'beep'\n",
        "the = a.replace('p', you) \n",
        "the.replace('bee', this)"
      ],
      "execution_count": 0,
      "outputs": [
        {
          "output_type": "execute_result",
          "data": {
            "text/plain": [
              "'bokkeep'"
            ]
          },
          "metadata": {
            "tags": []
          },
          "execution_count": 1
        }
      ]
    },
    {
      "metadata": {
        "id": "wrb2-V6jmZfE",
        "colab_type": "code",
        "outputId": "1d824dd4-952f-4545-e2d5-f6fd6e579a0a",
        "colab": {
          "base_uri": "https://localhost:8080/",
          "height": 167
        }
      },
      "cell_type": "code",
      "source": [
        "_ = ok.grade('q211')"
      ],
      "execution_count": 0,
      "outputs": [
        {
          "output_type": "error",
          "ename": "NameError",
          "evalue": "ignored",
          "traceback": [
            "\u001b[0;31m---------------------------------------------------------------------------\u001b[0m",
            "\u001b[0;31mNameError\u001b[0m                                 Traceback (most recent call last)",
            "\u001b[0;32m<ipython-input-3-3cbada1ba870>\u001b[0m in \u001b[0;36m<module>\u001b[0;34m()\u001b[0m\n\u001b[0;32m----> 1\u001b[0;31m \u001b[0m_\u001b[0m \u001b[0;34m=\u001b[0m \u001b[0mok\u001b[0m\u001b[0;34m.\u001b[0m\u001b[0mgrade\u001b[0m\u001b[0;34m(\u001b[0m\u001b[0;34m'q211'\u001b[0m\u001b[0;34m)\u001b[0m\u001b[0;34m\u001b[0m\u001b[0;34m\u001b[0m\u001b[0m\n\u001b[0m",
            "\u001b[0;31mNameError\u001b[0m: name 'ok' is not defined"
          ]
        }
      ]
    }
  ]
}