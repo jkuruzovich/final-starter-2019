{
  "nbformat": 4,
  "nbformat_minor": 0,
  "metadata": {
    "colab": {
      "name": "Copy of final_2019_student.ipynb",
      "provenance": [],
      "collapsed_sections": []
    },
    "kernelspec": {
      "display_name": "Python 3",
      "language": "python",
      "name": "python3"
    },
    "language_info": {
      "codemirror_mode": {
        "name": "ipython",
        "version": 3
      },
      "file_extension": ".py",
      "mimetype": "text/x-python",
      "name": "python",
      "nbconvert_exporter": "python",
      "pygments_lexer": "ipython3",
      "version": "3.6.3"
    }
  },
  "cells": [
    {
      "cell_type": "markdown",
      "metadata": {
        "colab_type": "text",
        "id": "88E1SinoXESX"
      },
      "source": [
        "# Tech Fundamentals Final\n",
        "# enter your name here\n",
        "\n",
        "\"I pledge under the RPI honor code that I have completed this work on my own.\" \n",
        "\n",
        "At any time a monitor may ask you to scroll up to the top of this document to view this. \n"
      ]
    },
    {
      "cell_type": "code",
      "metadata": {
        "colab_type": "code",
        "id": "bazbfl30iE3t",
        "colab": {}
      },
      "source": [
        "#This just gets the data and preps the environment. \n",
        "data=\"https://www.dropbox.com/s/7kbq1hi31a7tnzt/data.zip\""
      ],
      "execution_count": 0,
      "outputs": []
    },
    {
      "cell_type": "code",
      "metadata": {
        "colab_type": "code",
        "id": "K6tm8adzbq58",
        "colab": {}
      },
      "source": [
        "!wget $data"
      ],
      "execution_count": 0,
      "outputs": []
    },
    {
      "cell_type": "code",
      "metadata": {
        "colab_type": "code",
        "id": "NabIBvxWoICP",
        "colab": {}
      },
      "source": [
        "!unzip -o data.zip"
      ],
      "execution_count": 0,
      "outputs": []
    },
    {
      "cell_type": "markdown",
      "metadata": {
        "colab_type": "text",
        "id": "880XuoKaXJke"
      },
      "source": [
        "This is healthcare data generated from a syntetic data generator.  We want to see how good it is. "
      ]
    },
    {
      "cell_type": "code",
      "metadata": {
        "colab_type": "code",
        "id": "jcsebVilY9Ue",
        "colab": {}
      },
      "source": [
        "#Let's list the files\n",
        "!ls ./data/ma\n"
      ],
      "execution_count": 0,
      "outputs": []
    },
    {
      "cell_type": "code",
      "metadata": {
        "colab_type": "code",
        "id": "0vVUHm0Vi72N",
        "colab": {}
      },
      "source": [
        "#Let's look at one of the dataframes\n",
        "import numpy as np\n",
        "import pandas as pd\n",
        "careplans_ma= pd.read_csv('./data/ma/careplans.csv')\n",
        "careplans_ny= pd.read_csv('./data/ny/careplans.csv')\n",
        "careplans_ma\n"
      ],
      "execution_count": 0,
      "outputs": []
    },
    {
      "cell_type": "markdown",
      "metadata": {
        "colab_type": "text",
        "id": "-G1gjRxRXESa"
      },
      "source": [
        "# Exploratory Data Analysis \n",
        "\n",
        "The data directory includes a wide variety of data related to health care.  \n",
        "    \n",
        "(1. 5 points) Find the mean of the `COST` varaiable in the `encounters.csv` data for both NY and MA, assigning the values to `cost_ny` and `cost_ma`.   \n",
        "\n",
        "\n",
        "\n"
      ]
    },
    {
      "cell_type": "code",
      "metadata": {
        "colab_type": "code",
        "id": "z6GWZeGvXESc",
        "colab": {}
      },
      "source": [
        "# Answer 1\n",
        "\n",
        "#Load the data\n",
        "cost_ma=0 # Fix this to calculate the mean of the cost. (5 points)\n",
        "cost_ny=0 #Fix this to calculate the mean of the cost. (5 points)\n",
        "print( cost_ma, cost_ny)\n",
        "print (\"___\", \"    If you are seeing a face, probably aren't there yet. \")\n",
        "\n",
        "\n"
      ],
      "execution_count": 0,
      "outputs": []
    },
    {
      "cell_type": "markdown",
      "metadata": {
        "colab_type": "text",
        "id": "1aMi_E27oICs"
      },
      "source": [
        "# Cost Regression Analysis\n",
        "\n",
        "### Dummy Creation and Split to Train and Test for NY ONLY \n",
        "\n",
        "The goal of the code below is to predict the `COST` from `CODE` and `ENCOUNTERCLASS`.  \n",
        "\n",
        "\n",
        "(2. 5 points) First create dummy variables from `CODE` and `ENCOUNTERCLASS`.  Don't use any other variables.  split your data into an 70% train and 30% validation using a `random_state` of 111. For validation, set: \n",
        "\n",
        "```\n",
        "splittest1 = X_train.iloc[5,2]\n",
        "\n",
        "splittest2 = X_test.iloc[7,4]\n",
        "```\n",
        "\n",
        "\n"
      ]
    },
    {
      "cell_type": "code",
      "metadata": {
        "colab_type": "code",
        "id": "q6EnzsJyoICu",
        "colab": {}
      },
      "source": [
        "from sklearn.model_selection import train_test_split\n",
        "from sklearn.linear_model import LinearRegression\n",
        "\n",
        "#Create Dummies. Also set  dummy_na = True\n",
        "\n",
        "#y ='COST'\n",
        "#X_train, X_test, y_train, y_test is the naming you should use\n",
        "#verify split\n",
        "\n",
        "#keep this code used for testing. \n",
        "splittest1 = X_train.shape\n",
        "splittest2 = X_test.iloc[7,4]\n",
        "print(splittest1, splittest2)"
      ],
      "execution_count": 0,
      "outputs": []
    },
    {
      "cell_type": "markdown",
      "metadata": {
        "colab_type": "text",
        "id": "nV6TiFTmoICx"
      },
      "source": [
        "### Predict Cost via Linear Regression \n",
        "\n",
        "(3. 5 points) Using linear regression analysis, use the `CODE` and `ENCOUNTERCLASS` as independent variables to predict `COST`. This is your naive model. Report R-Squared for both training `r2_train_cost` and validation `r2_test_cost`. \n",
        "\n",
        "\n"
      ]
    },
    {
      "cell_type": "code",
      "metadata": {
        "colab_type": "code",
        "id": "WKKqv5ZpoICy",
        "colab": {}
      },
      "source": [
        "#3 Answer\n",
        "from sklearn.linear_model import LinearRegression\n",
        "\n",
        "\n",
        "r2_train_cost = 0 # Make equal to the R2. \n",
        "r2_test_cost = 0# Make equal to the R2. \n",
        "\n",
        "#Keep this\n",
        "print('R2 for Train:', r2_train_cost)\n",
        "print('R2 for Test (cross validation)：', r2_test_cost )"
      ],
      "execution_count": 0,
      "outputs": []
    },
    {
      "cell_type": "markdown",
      "metadata": {
        "colab_type": "text",
        "id": "jAucAlQIoIC2"
      },
      "source": [
        "# Create Graph of Encounter class vs Cost\n",
        "\n",
        "(4. 5 points) Create a graph of encounter class vs cost. It should look like the graph below (created via seaborn). \n"
      ]
    },
    {
      "cell_type": "code",
      "metadata": {
        "colab_type": "code",
        "id": "M5b0u7uyoIC3",
        "colab": {}
      },
      "source": [
        "%matplotlib inline"
      ],
      "execution_count": 0,
      "outputs": []
    },
    {
      "cell_type": "code",
      "metadata": {
        "colab_type": "code",
        "id": "Vg4u1tjoXETL",
        "colab": {}
      },
      "source": [
        "#4 Answer\n",
        "import seaborn as sns\n"
      ],
      "execution_count": 0,
      "outputs": []
    },
    {
      "cell_type": "markdown",
      "metadata": {
        "colab_type": "text",
        "id": "vyOd-KhooIC-"
      },
      "source": [
        "When you are done, your graph should look like this.  \n",
        "\n",
        "ENCOUNTERCLASS is on the Y axis and  and COST on X axis.\n",
        "\n",
        "![Imgur](https://i.imgur.com/asCDZSM.png)\n"
      ]
    },
    {
      "cell_type": "markdown",
      "metadata": {
        "colab_type": "text",
        "id": "aQ06eTNFXEXk"
      },
      "source": [
        "# High Cost Patients Classification \n",
        "\n",
        "A second Challenge is determine the most expensive individuals.  This is set as all those groups that are more than 1 standard deviation above the mean, indicated as 'HIGHCOST' in the dataset.  \n",
        "\n",
        "(5. 5 points) \n",
        "Overall, count the total number of individuals who are high cost in NY (i.e., where encounters_ny['HIGHCOST'] is equal to 1.) Assign to the value `total_high_cost_ny`. \n",
        "\n",
        "Overall, count the total number of individuals who are high cost in MA (i.e., where encounters_ny['HIGHCOST'] is equal to 1.) Assign to the value `total_high_cost_ma`. \n",
        "\n",
        "\n"
      ]
    },
    {
      "cell_type": "code",
      "metadata": {
        "colab_type": "code",
        "id": "bPGRyrs4oIDA",
        "colab": {}
      },
      "source": [
        "#5 Answer \n",
        "total_high_cost_ny=0  #set to the sum\n",
        "total_high_cost_ma=0 #set to the sum\n",
        "\n",
        "print(total_high_cost_ny, total_high_cost_ma)"
      ],
      "execution_count": 0,
      "outputs": []
    },
    {
      "cell_type": "markdown",
      "metadata": {
        "colab_type": "text",
        "id": "a5mGGSz4oIDE"
      },
      "source": [
        "### Split the Train and test set for Classification with you DV set to HIGHCOST for NY Only. \n",
        "\n",
        "\n",
        "(6. 5 points) First split your data into an 70% train and 30% validation. Make sure that the results are *stratified* (equal classes in train and test) with `random_state = 111`.  \n",
        "\n",
        "Also set the following:\n",
        "\n",
        "```\n",
        "splittest3 = y_train.iloc[5]\n",
        "splittest4 = y_test.iloc[3]\n",
        "```\n"
      ]
    },
    {
      "cell_type": "code",
      "metadata": {
        "colab_type": "code",
        "id": "RK4j7B0JoIDE",
        "colab": {}
      },
      "source": [
        "#6 Answer \n",
        "#Set y equal to train encounters_ny['HIGHCOST'] \n",
        "y = encounters_ny['HIGHCOST']\n",
        "#X_train, X_test, y_train, y_test  is the naming you should use\n",
        "\n",
        "#This will be used for testing. Keep it. \n",
        "splittest3 = y_train.iloc[3]\n",
        "splittest4 = y_test.iloc[17]\n",
        "print (splittest3, splittest4)"
      ],
      "execution_count": 0,
      "outputs": []
    },
    {
      "cell_type": "markdown",
      "metadata": {
        "colab_type": "text",
        "id": "2SZb1zDLoIDK"
      },
      "source": [
        "### Classification with Random Forests\n",
        "\n",
        "\n",
        "(8. 5 points) Use a RandomForestClassifier to predict the 'HIGH_COST' with use the `CODE` and `ENCOUNTERCLASS` as independent variables.  \n",
        "\n",
        "Also set the following:\n",
        "\n",
        "```\n",
        "train_accuracy\n",
        "test_accuracy\n",
        "```"
      ]
    },
    {
      "cell_type": "code",
      "metadata": {
        "colab_type": "code",
        "id": "SIXHnQQsoIDL",
        "colab": {}
      },
      "source": [
        "from sklearn.ensemble import RandomForestClassifier\n",
        "\n",
        "train_accuracy = 0#set to the accuracy\n",
        "test_accuracy = 0 #set to the accuracy\n",
        "#Keep this.\n",
        "print(\"Classifier Accuracy for Train: \", train_accuracy )\n",
        "print(\"Classifier Accuracy for Test: \", test_accuracy )"
      ],
      "execution_count": 0,
      "outputs": []
    },
    {
      "cell_type": "markdown",
      "metadata": {
        "colab_type": "text",
        "id": "zcSiCldTXEX2"
      },
      "source": [
        "### Submission\n",
        "For the final submission, please submit a link to this notebook to the LMS as a `.ipynb` file.  The TA must be able to run your notebook.  \n",
        "\n",
        "### Please make sure that your notebook above this point runs without errors.  "
      ]
    }
  ]
}